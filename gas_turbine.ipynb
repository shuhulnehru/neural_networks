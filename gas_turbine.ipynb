{
  "nbformat": 4,
  "nbformat_minor": 5,
  "metadata": {
    "kernelspec": {
      "display_name": "Python 3",
      "language": "python",
      "name": "python3"
    },
    "language_info": {
      "codemirror_mode": {
        "name": "ipython",
        "version": 3
      },
      "file_extension": ".py",
      "mimetype": "text/x-python",
      "name": "python",
      "nbconvert_exporter": "python",
      "pygments_lexer": "ipython3",
      "version": "3.8.8"
    },
    "toc": {
      "base_numbering": 1,
      "nav_menu": {},
      "number_sections": true,
      "sideBar": true,
      "skip_h1_title": false,
      "title_cell": "Table of Contents",
      "title_sidebar": "Contents",
      "toc_cell": false,
      "toc_position": {},
      "toc_section_display": true,
      "toc_window_display": false
    },
    "colab": {
      "name": "Assign_ANN_gas_turbines.ipynb",
      "provenance": []
    }
  },
  "cells": [
    {
      "cell_type": "code",
      "metadata": {
        "id": "770df09d"
      },
      "source": [
        "import pandas as pd\n",
        "import numpy as np \n",
        "from keras.layers import Dense\n",
        "from keras.models import Sequential\n",
        "\n",
        "from sklearn.preprocessing import StandardScaler"
      ],
      "id": "770df09d",
      "execution_count": 10,
      "outputs": []
    },
    {
      "cell_type": "code",
      "metadata": {
        "id": "5368c976"
      },
      "source": [
        "df = pd.read_csv(\"https://excelr.s3.nl-ams.scw.cloud/DataScience-Assignments/updated-Folders/Neural-Network/gas_turbines.csv\")"
      ],
      "id": "5368c976",
      "execution_count": 2,
      "outputs": []
    },
    {
      "cell_type": "code",
      "metadata": {
        "colab": {
          "base_uri": "https://localhost:8080/",
          "height": 204
        },
        "id": "680da522",
        "outputId": "db2a8436-86f0-4a96-d912-7ac57a42865e"
      },
      "source": [
        "df.head()"
      ],
      "id": "680da522",
      "execution_count": 3,
      "outputs": [
        {
          "output_type": "execute_result",
          "data": {
            "text/html": [
              "<div>\n",
              "<style scoped>\n",
              "    .dataframe tbody tr th:only-of-type {\n",
              "        vertical-align: middle;\n",
              "    }\n",
              "\n",
              "    .dataframe tbody tr th {\n",
              "        vertical-align: top;\n",
              "    }\n",
              "\n",
              "    .dataframe thead th {\n",
              "        text-align: right;\n",
              "    }\n",
              "</style>\n",
              "<table border=\"1\" class=\"dataframe\">\n",
              "  <thead>\n",
              "    <tr style=\"text-align: right;\">\n",
              "      <th></th>\n",
              "      <th>AT</th>\n",
              "      <th>AP</th>\n",
              "      <th>AH</th>\n",
              "      <th>AFDP</th>\n",
              "      <th>GTEP</th>\n",
              "      <th>TIT</th>\n",
              "      <th>TAT</th>\n",
              "      <th>TEY</th>\n",
              "      <th>CDP</th>\n",
              "      <th>CO</th>\n",
              "      <th>NOX</th>\n",
              "    </tr>\n",
              "  </thead>\n",
              "  <tbody>\n",
              "    <tr>\n",
              "      <th>0</th>\n",
              "      <td>6.8594</td>\n",
              "      <td>1007.9</td>\n",
              "      <td>96.799</td>\n",
              "      <td>3.5000</td>\n",
              "      <td>19.663</td>\n",
              "      <td>1059.2</td>\n",
              "      <td>550.00</td>\n",
              "      <td>114.70</td>\n",
              "      <td>10.605</td>\n",
              "      <td>3.1547</td>\n",
              "      <td>82.722</td>\n",
              "    </tr>\n",
              "    <tr>\n",
              "      <th>1</th>\n",
              "      <td>6.7850</td>\n",
              "      <td>1008.4</td>\n",
              "      <td>97.118</td>\n",
              "      <td>3.4998</td>\n",
              "      <td>19.728</td>\n",
              "      <td>1059.3</td>\n",
              "      <td>550.00</td>\n",
              "      <td>114.72</td>\n",
              "      <td>10.598</td>\n",
              "      <td>3.2363</td>\n",
              "      <td>82.776</td>\n",
              "    </tr>\n",
              "    <tr>\n",
              "      <th>2</th>\n",
              "      <td>6.8977</td>\n",
              "      <td>1008.8</td>\n",
              "      <td>95.939</td>\n",
              "      <td>3.4824</td>\n",
              "      <td>19.779</td>\n",
              "      <td>1059.4</td>\n",
              "      <td>549.87</td>\n",
              "      <td>114.71</td>\n",
              "      <td>10.601</td>\n",
              "      <td>3.2012</td>\n",
              "      <td>82.468</td>\n",
              "    </tr>\n",
              "    <tr>\n",
              "      <th>3</th>\n",
              "      <td>7.0569</td>\n",
              "      <td>1009.2</td>\n",
              "      <td>95.249</td>\n",
              "      <td>3.4805</td>\n",
              "      <td>19.792</td>\n",
              "      <td>1059.6</td>\n",
              "      <td>549.99</td>\n",
              "      <td>114.72</td>\n",
              "      <td>10.606</td>\n",
              "      <td>3.1923</td>\n",
              "      <td>82.670</td>\n",
              "    </tr>\n",
              "    <tr>\n",
              "      <th>4</th>\n",
              "      <td>7.3978</td>\n",
              "      <td>1009.7</td>\n",
              "      <td>95.150</td>\n",
              "      <td>3.4976</td>\n",
              "      <td>19.765</td>\n",
              "      <td>1059.7</td>\n",
              "      <td>549.98</td>\n",
              "      <td>114.72</td>\n",
              "      <td>10.612</td>\n",
              "      <td>3.2484</td>\n",
              "      <td>82.311</td>\n",
              "    </tr>\n",
              "  </tbody>\n",
              "</table>\n",
              "</div>"
            ],
            "text/plain": [
              "       AT      AP      AH    AFDP  ...     TEY     CDP      CO     NOX\n",
              "0  6.8594  1007.9  96.799  3.5000  ...  114.70  10.605  3.1547  82.722\n",
              "1  6.7850  1008.4  97.118  3.4998  ...  114.72  10.598  3.2363  82.776\n",
              "2  6.8977  1008.8  95.939  3.4824  ...  114.71  10.601  3.2012  82.468\n",
              "3  7.0569  1009.2  95.249  3.4805  ...  114.72  10.606  3.1923  82.670\n",
              "4  7.3978  1009.7  95.150  3.4976  ...  114.72  10.612  3.2484  82.311\n",
              "\n",
              "[5 rows x 11 columns]"
            ]
          },
          "metadata": {},
          "execution_count": 3
        }
      ]
    },
    {
      "cell_type": "code",
      "metadata": {
        "colab": {
          "base_uri": "https://localhost:8080/"
        },
        "id": "288e2139",
        "outputId": "d662b96e-b33f-4f89-e5f2-e0ece768f9c1"
      },
      "source": [
        "df.shape"
      ],
      "id": "288e2139",
      "execution_count": 4,
      "outputs": [
        {
          "output_type": "execute_result",
          "data": {
            "text/plain": [
              "(15039, 11)"
            ]
          },
          "metadata": {},
          "execution_count": 4
        }
      ]
    },
    {
      "cell_type": "code",
      "metadata": {
        "id": "fb3050b9"
      },
      "source": [
        "x = df.drop(['TEY'],axis = 1)\n",
        "y = df['TEY']"
      ],
      "id": "fb3050b9",
      "execution_count": 5,
      "outputs": []
    },
    {
      "cell_type": "code",
      "metadata": {
        "colab": {
          "base_uri": "https://localhost:8080/",
          "height": 204
        },
        "id": "f35b16c1",
        "outputId": "67f2e238-8cfe-4996-ad3d-7526b8f01cc2"
      },
      "source": [
        "x.head()"
      ],
      "id": "f35b16c1",
      "execution_count": 6,
      "outputs": [
        {
          "output_type": "execute_result",
          "data": {
            "text/html": [
              "<div>\n",
              "<style scoped>\n",
              "    .dataframe tbody tr th:only-of-type {\n",
              "        vertical-align: middle;\n",
              "    }\n",
              "\n",
              "    .dataframe tbody tr th {\n",
              "        vertical-align: top;\n",
              "    }\n",
              "\n",
              "    .dataframe thead th {\n",
              "        text-align: right;\n",
              "    }\n",
              "</style>\n",
              "<table border=\"1\" class=\"dataframe\">\n",
              "  <thead>\n",
              "    <tr style=\"text-align: right;\">\n",
              "      <th></th>\n",
              "      <th>AT</th>\n",
              "      <th>AP</th>\n",
              "      <th>AH</th>\n",
              "      <th>AFDP</th>\n",
              "      <th>GTEP</th>\n",
              "      <th>TIT</th>\n",
              "      <th>TAT</th>\n",
              "      <th>CDP</th>\n",
              "      <th>CO</th>\n",
              "      <th>NOX</th>\n",
              "    </tr>\n",
              "  </thead>\n",
              "  <tbody>\n",
              "    <tr>\n",
              "      <th>0</th>\n",
              "      <td>6.8594</td>\n",
              "      <td>1007.9</td>\n",
              "      <td>96.799</td>\n",
              "      <td>3.5000</td>\n",
              "      <td>19.663</td>\n",
              "      <td>1059.2</td>\n",
              "      <td>550.00</td>\n",
              "      <td>10.605</td>\n",
              "      <td>3.1547</td>\n",
              "      <td>82.722</td>\n",
              "    </tr>\n",
              "    <tr>\n",
              "      <th>1</th>\n",
              "      <td>6.7850</td>\n",
              "      <td>1008.4</td>\n",
              "      <td>97.118</td>\n",
              "      <td>3.4998</td>\n",
              "      <td>19.728</td>\n",
              "      <td>1059.3</td>\n",
              "      <td>550.00</td>\n",
              "      <td>10.598</td>\n",
              "      <td>3.2363</td>\n",
              "      <td>82.776</td>\n",
              "    </tr>\n",
              "    <tr>\n",
              "      <th>2</th>\n",
              "      <td>6.8977</td>\n",
              "      <td>1008.8</td>\n",
              "      <td>95.939</td>\n",
              "      <td>3.4824</td>\n",
              "      <td>19.779</td>\n",
              "      <td>1059.4</td>\n",
              "      <td>549.87</td>\n",
              "      <td>10.601</td>\n",
              "      <td>3.2012</td>\n",
              "      <td>82.468</td>\n",
              "    </tr>\n",
              "    <tr>\n",
              "      <th>3</th>\n",
              "      <td>7.0569</td>\n",
              "      <td>1009.2</td>\n",
              "      <td>95.249</td>\n",
              "      <td>3.4805</td>\n",
              "      <td>19.792</td>\n",
              "      <td>1059.6</td>\n",
              "      <td>549.99</td>\n",
              "      <td>10.606</td>\n",
              "      <td>3.1923</td>\n",
              "      <td>82.670</td>\n",
              "    </tr>\n",
              "    <tr>\n",
              "      <th>4</th>\n",
              "      <td>7.3978</td>\n",
              "      <td>1009.7</td>\n",
              "      <td>95.150</td>\n",
              "      <td>3.4976</td>\n",
              "      <td>19.765</td>\n",
              "      <td>1059.7</td>\n",
              "      <td>549.98</td>\n",
              "      <td>10.612</td>\n",
              "      <td>3.2484</td>\n",
              "      <td>82.311</td>\n",
              "    </tr>\n",
              "  </tbody>\n",
              "</table>\n",
              "</div>"
            ],
            "text/plain": [
              "       AT      AP      AH    AFDP  ...     TAT     CDP      CO     NOX\n",
              "0  6.8594  1007.9  96.799  3.5000  ...  550.00  10.605  3.1547  82.722\n",
              "1  6.7850  1008.4  97.118  3.4998  ...  550.00  10.598  3.2363  82.776\n",
              "2  6.8977  1008.8  95.939  3.4824  ...  549.87  10.601  3.2012  82.468\n",
              "3  7.0569  1009.2  95.249  3.4805  ...  549.99  10.606  3.1923  82.670\n",
              "4  7.3978  1009.7  95.150  3.4976  ...  549.98  10.612  3.2484  82.311\n",
              "\n",
              "[5 rows x 10 columns]"
            ]
          },
          "metadata": {},
          "execution_count": 6
        }
      ]
    },
    {
      "cell_type": "code",
      "metadata": {
        "colab": {
          "base_uri": "https://localhost:8080/"
        },
        "id": "28305841",
        "outputId": "40478123-5abf-40d3-ae7e-64f12ff91dbc"
      },
      "source": [
        "y.head()"
      ],
      "id": "28305841",
      "execution_count": 7,
      "outputs": [
        {
          "output_type": "execute_result",
          "data": {
            "text/plain": [
              "0    114.70\n",
              "1    114.72\n",
              "2    114.71\n",
              "3    114.72\n",
              "4    114.72\n",
              "Name: TEY, dtype: float64"
            ]
          },
          "metadata": {},
          "execution_count": 7
        }
      ]
    },
    {
      "cell_type": "code",
      "metadata": {
        "id": "bbde5fdf"
      },
      "source": [
        "std = StandardScaler()\n",
        "x_std = std.fit_transform(x)"
      ],
      "id": "bbde5fdf",
      "execution_count": 11,
      "outputs": []
    },
    {
      "cell_type": "code",
      "metadata": {
        "colab": {
          "base_uri": "https://localhost:8080/"
        },
        "id": "977540ea",
        "outputId": "70d18184-7050-40e3-fd9d-11f98c774247"
      },
      "source": [
        "x_std"
      ],
      "id": "977540ea",
      "execution_count": 12,
      "outputs": [
        {
          "output_type": "execute_result",
          "data": {
            "text/plain": [
              "array([[-1.4397781 , -0.82664395,  1.28143632, ..., -1.35733078,\n",
              "         0.53201195,  1.3878449 ],\n",
              "       [-1.44960109, -0.74864748,  1.30456402, ..., -1.36367619,\n",
              "         0.56873344,  1.39300237],\n",
              "       [-1.43472138, -0.68625031,  1.21908576, ..., -1.36095673,\n",
              "         0.5529378 ,  1.36358566],\n",
              "       ...,\n",
              "       [-1.38626659, -1.07623263,  1.47697056, ..., -1.46792219,\n",
              "         2.69592467,  2.17006209],\n",
              "       [-1.42042259, -0.99823616,  1.44159024, ..., -1.42259784,\n",
              "         1.9246834 ,  2.391165  ],\n",
              "       [-1.43073409, -0.93583899,  1.33465179, ..., -1.37727349,\n",
              "         1.35415028,  2.32153907]])"
            ]
          },
          "metadata": {},
          "execution_count": 12
        }
      ]
    },
    {
      "cell_type": "code",
      "metadata": {
        "colab": {
          "base_uri": "https://localhost:8080/",
          "height": 297
        },
        "id": "7cc47352",
        "outputId": "afd5a857-2f29-4bc8-ec67-0681786a567a"
      },
      "source": [
        "x.describe()"
      ],
      "id": "7cc47352",
      "execution_count": 13,
      "outputs": [
        {
          "output_type": "execute_result",
          "data": {
            "text/html": [
              "<div>\n",
              "<style scoped>\n",
              "    .dataframe tbody tr th:only-of-type {\n",
              "        vertical-align: middle;\n",
              "    }\n",
              "\n",
              "    .dataframe tbody tr th {\n",
              "        vertical-align: top;\n",
              "    }\n",
              "\n",
              "    .dataframe thead th {\n",
              "        text-align: right;\n",
              "    }\n",
              "</style>\n",
              "<table border=\"1\" class=\"dataframe\">\n",
              "  <thead>\n",
              "    <tr style=\"text-align: right;\">\n",
              "      <th></th>\n",
              "      <th>AT</th>\n",
              "      <th>AP</th>\n",
              "      <th>AH</th>\n",
              "      <th>AFDP</th>\n",
              "      <th>GTEP</th>\n",
              "      <th>TIT</th>\n",
              "      <th>TAT</th>\n",
              "      <th>CDP</th>\n",
              "      <th>CO</th>\n",
              "      <th>NOX</th>\n",
              "    </tr>\n",
              "  </thead>\n",
              "  <tbody>\n",
              "    <tr>\n",
              "      <th>count</th>\n",
              "      <td>15039.000000</td>\n",
              "      <td>15039.00000</td>\n",
              "      <td>15039.000000</td>\n",
              "      <td>15039.000000</td>\n",
              "      <td>15039.000000</td>\n",
              "      <td>15039.000000</td>\n",
              "      <td>15039.000000</td>\n",
              "      <td>15039.000000</td>\n",
              "      <td>15039.000000</td>\n",
              "      <td>15039.000000</td>\n",
              "    </tr>\n",
              "    <tr>\n",
              "      <th>mean</th>\n",
              "      <td>17.764381</td>\n",
              "      <td>1013.19924</td>\n",
              "      <td>79.124174</td>\n",
              "      <td>4.200294</td>\n",
              "      <td>25.419061</td>\n",
              "      <td>1083.798770</td>\n",
              "      <td>545.396183</td>\n",
              "      <td>12.102353</td>\n",
              "      <td>1.972499</td>\n",
              "      <td>68.190934</td>\n",
              "    </tr>\n",
              "    <tr>\n",
              "      <th>std</th>\n",
              "      <td>7.574323</td>\n",
              "      <td>6.41076</td>\n",
              "      <td>13.793439</td>\n",
              "      <td>0.760197</td>\n",
              "      <td>4.173916</td>\n",
              "      <td>16.527806</td>\n",
              "      <td>7.866803</td>\n",
              "      <td>1.103196</td>\n",
              "      <td>2.222206</td>\n",
              "      <td>10.470586</td>\n",
              "    </tr>\n",
              "    <tr>\n",
              "      <th>min</th>\n",
              "      <td>0.522300</td>\n",
              "      <td>985.85000</td>\n",
              "      <td>30.344000</td>\n",
              "      <td>2.087400</td>\n",
              "      <td>17.878000</td>\n",
              "      <td>1000.800000</td>\n",
              "      <td>512.450000</td>\n",
              "      <td>9.904400</td>\n",
              "      <td>0.000388</td>\n",
              "      <td>27.765000</td>\n",
              "    </tr>\n",
              "    <tr>\n",
              "      <th>25%</th>\n",
              "      <td>11.408000</td>\n",
              "      <td>1008.90000</td>\n",
              "      <td>69.750000</td>\n",
              "      <td>3.723900</td>\n",
              "      <td>23.294000</td>\n",
              "      <td>1079.600000</td>\n",
              "      <td>542.170000</td>\n",
              "      <td>11.622000</td>\n",
              "      <td>0.858055</td>\n",
              "      <td>61.303500</td>\n",
              "    </tr>\n",
              "    <tr>\n",
              "      <th>50%</th>\n",
              "      <td>18.186000</td>\n",
              "      <td>1012.80000</td>\n",
              "      <td>82.266000</td>\n",
              "      <td>4.186200</td>\n",
              "      <td>25.082000</td>\n",
              "      <td>1088.700000</td>\n",
              "      <td>549.890000</td>\n",
              "      <td>12.025000</td>\n",
              "      <td>1.390200</td>\n",
              "      <td>66.601000</td>\n",
              "    </tr>\n",
              "    <tr>\n",
              "      <th>75%</th>\n",
              "      <td>23.862500</td>\n",
              "      <td>1016.90000</td>\n",
              "      <td>90.043500</td>\n",
              "      <td>4.550900</td>\n",
              "      <td>27.184000</td>\n",
              "      <td>1096.000000</td>\n",
              "      <td>550.060000</td>\n",
              "      <td>12.578000</td>\n",
              "      <td>2.160400</td>\n",
              "      <td>73.935500</td>\n",
              "    </tr>\n",
              "    <tr>\n",
              "      <th>max</th>\n",
              "      <td>34.929000</td>\n",
              "      <td>1034.20000</td>\n",
              "      <td>100.200000</td>\n",
              "      <td>7.610600</td>\n",
              "      <td>37.402000</td>\n",
              "      <td>1100.800000</td>\n",
              "      <td>550.610000</td>\n",
              "      <td>15.081000</td>\n",
              "      <td>44.103000</td>\n",
              "      <td>119.890000</td>\n",
              "    </tr>\n",
              "  </tbody>\n",
              "</table>\n",
              "</div>"
            ],
            "text/plain": [
              "                 AT           AP  ...            CO           NOX\n",
              "count  15039.000000  15039.00000  ...  15039.000000  15039.000000\n",
              "mean      17.764381   1013.19924  ...      1.972499     68.190934\n",
              "std        7.574323      6.41076  ...      2.222206     10.470586\n",
              "min        0.522300    985.85000  ...      0.000388     27.765000\n",
              "25%       11.408000   1008.90000  ...      0.858055     61.303500\n",
              "50%       18.186000   1012.80000  ...      1.390200     66.601000\n",
              "75%       23.862500   1016.90000  ...      2.160400     73.935500\n",
              "max       34.929000   1034.20000  ...     44.103000    119.890000\n",
              "\n",
              "[8 rows x 10 columns]"
            ]
          },
          "metadata": {},
          "execution_count": 13
        }
      ]
    },
    {
      "cell_type": "markdown",
      "metadata": {
        "id": "0c2800c9"
      },
      "source": [
        "#### Hyper tuning of parameters"
      ],
      "id": "0c2800c9"
    },
    {
      "cell_type": "code",
      "metadata": {
        "id": "77a4b75f"
      },
      "source": [
        "from sklearn.model_selection import GridSearchCV,KFold\n",
        "from keras.wrappers.scikit_learn import KerasRegressor      # As the task is Regression\n",
        "from tensorflow.keras.optimizers import Adam\n"
      ],
      "id": "77a4b75f",
      "execution_count": 14,
      "outputs": []
    },
    {
      "cell_type": "markdown",
      "metadata": {
        "id": "226cc218"
      },
      "source": [
        "#### Creating a framework"
      ],
      "id": "226cc218"
    },
    {
      "cell_type": "code",
      "metadata": {
        "id": "c903ba94"
      },
      "source": [
        "def create_model():\n",
        "    model = Sequential()\n",
        "    model.add(Dense(8,input_dim = 10,kernel_initializer = 'uniform', activation = 'relu'))\n",
        "    model.add(Dense(5,kernel_initializer = 'uniform', activation = 'relu'))\n",
        "    model.add(Dense(1,kernel_initializer = 'uniform', activation = 'sigmoid'))\n",
        "    \n",
        "    adam = Adam(lr = 0.01)\n",
        "    model.compile(loss = 'mean_squared_error', optimizer = 'adam', metrics = ['accuracy'])\n",
        "    return model"
      ],
      "id": "c903ba94",
      "execution_count": 15,
      "outputs": []
    },
    {
      "cell_type": "markdown",
      "metadata": {
        "id": "9dc2a605"
      },
      "source": [
        "##### Creating the model"
      ],
      "id": "9dc2a605"
    },
    {
      "cell_type": "markdown",
      "metadata": {
        "id": "152b6d2e"
      },
      "source": [
        "##### Tuning for batch size and epochs"
      ],
      "id": "152b6d2e"
    },
    {
      "cell_type": "code",
      "metadata": {
        "colab": {
          "base_uri": "https://localhost:8080/"
        },
        "id": "1e16ede2",
        "outputId": "a4292c96-3f92-48ac-b4fd-cb01f4b07949"
      },
      "source": [
        "model = KerasRegressor(build_fn = create_model, verbose = 0)\n",
        "\n",
        "batch_size = [60,80,100]\n",
        "epochs = [20,40,60]\n",
        "\n",
        "param_grid = dict(batch_size = batch_size, epochs = epochs)\n",
        "\n",
        "grid = GridSearchCV(estimator = model, param_grid = param_grid, cv = KFold(), verbose = 10)\n",
        "grid.fit(x_std,y)"
      ],
      "id": "1e16ede2",
      "execution_count": 17,
      "outputs": [
        {
          "output_type": "stream",
          "name": "stdout",
          "text": [
            "Fitting 5 folds for each of 9 candidates, totalling 45 fits\n",
            "[CV] batch_size=60, epochs=20 ........................................\n"
          ]
        },
        {
          "output_type": "stream",
          "name": "stderr",
          "text": [
            "[Parallel(n_jobs=1)]: Using backend SequentialBackend with 1 concurrent workers.\n",
            "/usr/local/lib/python3.7/dist-packages/keras/optimizer_v2/optimizer_v2.py:356: UserWarning: The `lr` argument is deprecated, use `learning_rate` instead.\n",
            "  \"The `lr` argument is deprecated, use `learning_rate` instead.\")\n"
          ]
        },
        {
          "output_type": "stream",
          "name": "stdout",
          "text": [
            "[CV] ....... batch_size=60, epochs=20, score=-18533.217, total=   5.7s\n",
            "[CV] batch_size=60, epochs=20 ........................................\n"
          ]
        },
        {
          "output_type": "stream",
          "name": "stderr",
          "text": [
            "[Parallel(n_jobs=1)]: Done   1 out of   1 | elapsed:    5.7s remaining:    0.0s\n"
          ]
        },
        {
          "output_type": "stream",
          "name": "stdout",
          "text": [
            "[CV] ....... batch_size=60, epochs=20, score=-16715.756, total=   5.8s\n",
            "[CV] batch_size=60, epochs=20 ........................................\n"
          ]
        },
        {
          "output_type": "stream",
          "name": "stderr",
          "text": [
            "[Parallel(n_jobs=1)]: Done   2 out of   2 | elapsed:   11.5s remaining:    0.0s\n"
          ]
        },
        {
          "output_type": "stream",
          "name": "stdout",
          "text": [
            "[CV] ....... batch_size=60, epochs=20, score=-19193.945, total=   4.4s\n",
            "[CV] batch_size=60, epochs=20 ........................................\n"
          ]
        },
        {
          "output_type": "stream",
          "name": "stderr",
          "text": [
            "[Parallel(n_jobs=1)]: Done   3 out of   3 | elapsed:   15.9s remaining:    0.0s\n"
          ]
        },
        {
          "output_type": "stream",
          "name": "stdout",
          "text": [
            "[CV] ....... batch_size=60, epochs=20, score=-18239.484, total=   4.5s\n",
            "[CV] batch_size=60, epochs=20 ........................................\n"
          ]
        },
        {
          "output_type": "stream",
          "name": "stderr",
          "text": [
            "[Parallel(n_jobs=1)]: Done   4 out of   4 | elapsed:   20.4s remaining:    0.0s\n"
          ]
        },
        {
          "output_type": "stream",
          "name": "stdout",
          "text": [
            "[CV] ....... batch_size=60, epochs=20, score=-17266.115, total=   4.4s\n",
            "[CV] batch_size=60, epochs=40 ........................................\n"
          ]
        },
        {
          "output_type": "stream",
          "name": "stderr",
          "text": [
            "[Parallel(n_jobs=1)]: Done   5 out of   5 | elapsed:   24.9s remaining:    0.0s\n"
          ]
        },
        {
          "output_type": "stream",
          "name": "stdout",
          "text": [
            "[CV] ....... batch_size=60, epochs=40, score=-18535.344, total=  10.8s\n",
            "[CV] batch_size=60, epochs=40 ........................................\n"
          ]
        },
        {
          "output_type": "stream",
          "name": "stderr",
          "text": [
            "[Parallel(n_jobs=1)]: Done   6 out of   6 | elapsed:   35.7s remaining:    0.0s\n"
          ]
        },
        {
          "output_type": "stream",
          "name": "stdout",
          "text": [
            "[CV] ....... batch_size=60, epochs=40, score=-16715.730, total=   8.6s\n",
            "[CV] batch_size=60, epochs=40 ........................................\n"
          ]
        },
        {
          "output_type": "stream",
          "name": "stderr",
          "text": [
            "[Parallel(n_jobs=1)]: Done   7 out of   7 | elapsed:   44.2s remaining:    0.0s\n"
          ]
        },
        {
          "output_type": "stream",
          "name": "stdout",
          "text": [
            "[CV] ....... batch_size=60, epochs=40, score=-19193.918, total=  10.8s\n",
            "[CV] batch_size=60, epochs=40 ........................................\n"
          ]
        },
        {
          "output_type": "stream",
          "name": "stderr",
          "text": [
            "[Parallel(n_jobs=1)]: Done   8 out of   8 | elapsed:   55.1s remaining:    0.0s\n"
          ]
        },
        {
          "output_type": "stream",
          "name": "stdout",
          "text": [
            "[CV] ....... batch_size=60, epochs=40, score=-18239.477, total=  10.8s\n",
            "[CV] batch_size=60, epochs=40 ........................................\n"
          ]
        },
        {
          "output_type": "stream",
          "name": "stderr",
          "text": [
            "[Parallel(n_jobs=1)]: Done   9 out of   9 | elapsed:  1.1min remaining:    0.0s\n"
          ]
        },
        {
          "output_type": "stream",
          "name": "stdout",
          "text": [
            "[CV] ....... batch_size=60, epochs=40, score=-17266.109, total=  10.8s\n",
            "[CV] batch_size=60, epochs=60 ........................................\n",
            "[CV] ....... batch_size=60, epochs=60, score=-18533.189, total=  12.1s\n",
            "[CV] batch_size=60, epochs=60 ........................................\n",
            "[CV] ....... batch_size=60, epochs=60, score=-16715.730, total=  12.2s\n",
            "[CV] batch_size=60, epochs=60 ........................................\n",
            "[CV] ....... batch_size=60, epochs=60, score=-19193.916, total=  21.1s\n",
            "[CV] batch_size=60, epochs=60 ........................................\n",
            "[CV] ....... batch_size=60, epochs=60, score=-18239.477, total=  12.1s\n",
            "[CV] batch_size=60, epochs=60 ........................................\n",
            "[CV] ....... batch_size=60, epochs=60, score=-17266.109, total=  12.1s\n",
            "[CV] batch_size=80, epochs=20 ........................................\n",
            "[CV] ....... batch_size=80, epochs=20, score=-18533.244, total=   5.7s\n",
            "[CV] batch_size=80, epochs=20 ........................................\n",
            "[CV] ....... batch_size=80, epochs=20, score=-16715.785, total=   3.5s\n",
            "[CV] batch_size=80, epochs=20 ........................................\n",
            "[CV] ....... batch_size=80, epochs=20, score=-19193.939, total=   3.9s\n",
            "[CV] batch_size=80, epochs=20 ........................................\n",
            "[CV] ....... batch_size=80, epochs=20, score=-18239.490, total=   5.7s\n",
            "[CV] batch_size=80, epochs=20 ........................................\n",
            "[CV] ....... batch_size=80, epochs=20, score=-17266.123, total=   5.7s\n",
            "[CV] batch_size=80, epochs=40 ........................................\n",
            "[CV] ....... batch_size=80, epochs=40, score=-18533.213, total=   6.5s\n",
            "[CV] batch_size=80, epochs=40 ........................................\n",
            "[CV] ....... batch_size=80, epochs=40, score=-16715.734, total=   6.4s\n",
            "[CV] batch_size=80, epochs=40 ........................................\n",
            "[CV] ....... batch_size=80, epochs=40, score=-19193.924, total=  10.8s\n",
            "[CV] batch_size=80, epochs=40 ........................................\n",
            "[CV] ....... batch_size=80, epochs=40, score=-18239.479, total=   6.4s\n",
            "[CV] batch_size=80, epochs=40 ........................................\n",
            "[CV] ....... batch_size=80, epochs=40, score=-17266.109, total=  10.8s\n",
            "[CV] batch_size=80, epochs=60 ........................................\n",
            "[CV] ....... batch_size=80, epochs=60, score=-18533.186, total=   9.3s\n",
            "[CV] batch_size=80, epochs=60 ........................................\n",
            "[CV] ....... batch_size=80, epochs=60, score=-16715.727, total=  10.8s\n",
            "[CV] batch_size=80, epochs=60 ........................................\n",
            "[CV] ....... batch_size=80, epochs=60, score=-19193.916, total=  10.8s\n",
            "[CV] batch_size=80, epochs=60 ........................................\n",
            "[CV] ....... batch_size=80, epochs=60, score=-18239.477, total=  11.1s\n",
            "[CV] batch_size=80, epochs=60 ........................................\n",
            "[CV] ....... batch_size=80, epochs=60, score=-17266.109, total=  10.9s\n",
            "[CV] batch_size=100, epochs=20 .......................................\n",
            "[CV] ...... batch_size=100, epochs=20, score=-18533.275, total=   2.9s\n",
            "[CV] batch_size=100, epochs=20 .......................................\n",
            "[CV] ...... batch_size=100, epochs=20, score=-16715.752, total=   2.9s\n",
            "[CV] batch_size=100, epochs=20 .......................................\n",
            "[CV] ...... batch_size=100, epochs=20, score=-19193.969, total=   2.9s\n",
            "[CV] batch_size=100, epochs=20 .......................................\n",
            "[CV] ...... batch_size=100, epochs=20, score=-18239.510, total=   3.0s\n",
            "[CV] batch_size=100, epochs=20 .......................................\n",
            "[CV] ...... batch_size=100, epochs=20, score=-17266.127, total=   3.0s\n",
            "[CV] batch_size=100, epochs=40 .......................................\n",
            "[CV] ...... batch_size=100, epochs=40, score=-18533.197, total=   5.3s\n",
            "[CV] batch_size=100, epochs=40 .......................................\n",
            "[CV] ...... batch_size=100, epochs=40, score=-16715.748, total=   5.2s\n",
            "[CV] batch_size=100, epochs=40 .......................................\n",
            "[CV] ...... batch_size=100, epochs=40, score=-19193.928, total=   5.7s\n",
            "[CV] batch_size=100, epochs=40 .......................................\n",
            "[CV] ...... batch_size=100, epochs=40, score=-18239.477, total=   6.1s\n",
            "[CV] batch_size=100, epochs=40 .......................................\n",
            "[CV] ...... batch_size=100, epochs=40, score=-17266.109, total=   5.3s\n",
            "[CV] batch_size=100, epochs=60 .......................................\n",
            "[CV] ...... batch_size=100, epochs=60, score=-18533.203, total=   7.6s\n",
            "[CV] batch_size=100, epochs=60 .......................................\n",
            "[CV] ...... batch_size=100, epochs=60, score=-16715.730, total=   7.7s\n",
            "[CV] batch_size=100, epochs=60 .......................................\n",
            "[CV] ...... batch_size=100, epochs=60, score=-19193.924, total=   7.7s\n",
            "[CV] batch_size=100, epochs=60 .......................................\n",
            "[CV] ...... batch_size=100, epochs=60, score=-18239.477, total=  10.9s\n",
            "[CV] batch_size=100, epochs=60 .......................................\n",
            "[CV] ...... batch_size=100, epochs=60, score=-17266.109, total=   7.6s\n"
          ]
        },
        {
          "output_type": "stream",
          "name": "stderr",
          "text": [
            "[Parallel(n_jobs=1)]: Done  45 out of  45 | elapsed:  5.8min finished\n"
          ]
        },
        {
          "output_type": "execute_result",
          "data": {
            "text/plain": [
              "GridSearchCV(cv=KFold(n_splits=5, random_state=None, shuffle=False),\n",
              "             error_score=nan,\n",
              "             estimator=<keras.wrappers.scikit_learn.KerasRegressor object at 0x7f35103c6290>,\n",
              "             iid='deprecated', n_jobs=None,\n",
              "             param_grid={'batch_size': [60, 80, 100], 'epochs': [20, 40, 60]},\n",
              "             pre_dispatch='2*n_jobs', refit=True, return_train_score=False,\n",
              "             scoring=None, verbose=10)"
            ]
          },
          "metadata": {},
          "execution_count": 17
        }
      ]
    },
    {
      "cell_type": "code",
      "metadata": {
        "colab": {
          "base_uri": "https://localhost:8080/"
        },
        "id": "efd0a52b",
        "outputId": "35f9cd48-5b26-42da-c7f4-287bc32faff9"
      },
      "source": [
        "print('Best: {} with: {}'.format(grid.best_score_ , grid.best_params_))\n",
        "\n",
        "means = grid.cv_results_['mean_test_score']\n",
        "std = grid.cv_results_['std_test_score']\n",
        "params = grid.cv_results_['params']\n",
        "\n",
        "for mean,stdev,param in zip(means,std,params):\n",
        "       print('{} {} with : {}'.format(mean,stdev,param))\n",
        "   "
      ],
      "id": "efd0a52b",
      "execution_count": 18,
      "outputs": [
        {
          "output_type": "stream",
          "name": "stdout",
          "text": [
            "Best: -17989.6828125 with: {'batch_size': 80, 'epochs': 60}\n",
            "-17989.703515625 889.3276225973397 with : {'batch_size': 60, 'epochs': 20}\n",
            "-17990.115625 889.5883592729041 with : {'batch_size': 60, 'epochs': 40}\n",
            "-17989.684375 889.3241351769005 with : {'batch_size': 60, 'epochs': 60}\n",
            "-17989.71640625 889.3200424295077 with : {'batch_size': 80, 'epochs': 20}\n",
            "-17989.691796875 889.3281063027836 with : {'batch_size': 80, 'epochs': 40}\n",
            "-17989.6828125 889.3247768605675 with : {'batch_size': 80, 'epochs': 60}\n",
            "-17989.7265625 889.3417704453185 with : {'batch_size': 100, 'epochs': 20}\n",
            "-17989.691796875 889.3232276598369 with : {'batch_size': 100, 'epochs': 40}\n",
            "-17989.688671875 889.3279220605541 with : {'batch_size': 100, 'epochs': 60}\n"
          ]
        }
      ]
    },
    {
      "cell_type": "markdown",
      "metadata": {
        "id": "c931e7dd"
      },
      "source": [
        "##### Tuning for dropout rate and learning rate"
      ],
      "id": "c931e7dd"
    },
    {
      "cell_type": "code",
      "metadata": {
        "colab": {
          "base_uri": "https://localhost:8080/"
        },
        "id": "88ea279b",
        "outputId": "234acb51-7582-46b4-802f-069605ca01b4"
      },
      "source": [
        "from keras.layers import Dropout\n",
        "\n",
        "def create_model(learning_rate,dropout_rate):\n",
        "    model = Sequential()\n",
        "    model.add(Dense(8,input_dim = 10,kernel_initializer = 'uniform', activation = 'relu'))\n",
        "    model.add(Dropout(dropout_rate))\n",
        "    model.add(Dense(5,kernel_initializer = 'uniform', activation = 'relu'))\n",
        "    model.add(Dropout(dropout_rate))\n",
        "    model.add(Dense(1,kernel_initializer = 'uniform', activation = 'sigmoid'))\n",
        "    \n",
        "    adam = Adam(lr = learning_rate)\n",
        "    model.compile(loss = 'mean_squared_error', optimizer = 'adam', metrics = ['accuracy'])\n",
        "    return model\n",
        "\n",
        "model = KerasRegressor(build_fn = create_model,batch_size = 80, epochs = 70, verbose = 0)\n",
        "\n",
        "dropout_rate = [0.1,0.2,0.5]\n",
        "learning_rate = [0.1,0.01,0.001]\n",
        "\n",
        "param_grid = dict(dropout_rate = dropout_rate, learning_rate = learning_rate)\n",
        "\n",
        "grid = GridSearchCV(estimator = model, param_grid = param_grid, cv = KFold(n_splits = 3), verbose = 10)\n",
        "grid.fit(x_std,y)"
      ],
      "id": "88ea279b",
      "execution_count": 19,
      "outputs": [
        {
          "output_type": "stream",
          "name": "stdout",
          "text": [
            "Fitting 3 folds for each of 9 candidates, totalling 27 fits\n",
            "[CV] dropout_rate=0.1, learning_rate=0.1 .............................\n"
          ]
        },
        {
          "output_type": "stream",
          "name": "stderr",
          "text": [
            "[Parallel(n_jobs=1)]: Using backend SequentialBackend with 1 concurrent workers.\n",
            "/usr/local/lib/python3.7/dist-packages/keras/optimizer_v2/optimizer_v2.py:356: UserWarning: The `lr` argument is deprecated, use `learning_rate` instead.\n",
            "  \"The `lr` argument is deprecated, use `learning_rate` instead.\")\n"
          ]
        },
        {
          "output_type": "stream",
          "name": "stdout",
          "text": [
            "[CV]  dropout_rate=0.1, learning_rate=0.1, score=-17761.498, total=  10.9s\n",
            "[CV] dropout_rate=0.1, learning_rate=0.1 .............................\n"
          ]
        },
        {
          "output_type": "stream",
          "name": "stderr",
          "text": [
            "[Parallel(n_jobs=1)]: Done   1 out of   1 | elapsed:   10.9s remaining:    0.0s\n"
          ]
        },
        {
          "output_type": "stream",
          "name": "stdout",
          "text": [
            "[CV]  dropout_rate=0.1, learning_rate=0.1, score=-18855.252, total=   9.6s\n",
            "[CV] dropout_rate=0.1, learning_rate=0.1 .............................\n"
          ]
        },
        {
          "output_type": "stream",
          "name": "stderr",
          "text": [
            "[Parallel(n_jobs=1)]: Done   2 out of   2 | elapsed:   20.5s remaining:    0.0s\n"
          ]
        },
        {
          "output_type": "stream",
          "name": "stdout",
          "text": [
            "[CV]  dropout_rate=0.1, learning_rate=0.1, score=-17353.938, total=  10.9s\n",
            "[CV] dropout_rate=0.1, learning_rate=0.01 ............................\n"
          ]
        },
        {
          "output_type": "stream",
          "name": "stderr",
          "text": [
            "[Parallel(n_jobs=1)]: Done   3 out of   3 | elapsed:   31.4s remaining:    0.0s\n"
          ]
        },
        {
          "output_type": "stream",
          "name": "stdout",
          "text": [
            "[CV]  dropout_rate=0.1, learning_rate=0.01, score=-17761.498, total=  11.2s\n",
            "[CV] dropout_rate=0.1, learning_rate=0.01 ............................\n"
          ]
        },
        {
          "output_type": "stream",
          "name": "stderr",
          "text": [
            "[Parallel(n_jobs=1)]: Done   4 out of   4 | elapsed:   42.7s remaining:    0.0s\n"
          ]
        },
        {
          "output_type": "stream",
          "name": "stdout",
          "text": [
            "[CV]  dropout_rate=0.1, learning_rate=0.01, score=-18855.252, total=   9.6s\n",
            "[CV] dropout_rate=0.1, learning_rate=0.01 ............................\n"
          ]
        },
        {
          "output_type": "stream",
          "name": "stderr",
          "text": [
            "[Parallel(n_jobs=1)]: Done   5 out of   5 | elapsed:   52.3s remaining:    0.0s\n"
          ]
        },
        {
          "output_type": "stream",
          "name": "stdout",
          "text": [
            "[CV]  dropout_rate=0.1, learning_rate=0.01, score=-17352.438, total=  10.9s\n",
            "[CV] dropout_rate=0.1, learning_rate=0.001 ...........................\n"
          ]
        },
        {
          "output_type": "stream",
          "name": "stderr",
          "text": [
            "[Parallel(n_jobs=1)]: Done   6 out of   6 | elapsed:  1.1min remaining:    0.0s\n"
          ]
        },
        {
          "output_type": "stream",
          "name": "stdout",
          "text": [
            "[CV]  dropout_rate=0.1, learning_rate=0.001, score=-17761.498, total=   9.6s\n",
            "[CV] dropout_rate=0.1, learning_rate=0.001 ...........................\n"
          ]
        },
        {
          "output_type": "stream",
          "name": "stderr",
          "text": [
            "[Parallel(n_jobs=1)]: Done   7 out of   7 | elapsed:  1.2min remaining:    0.0s\n"
          ]
        },
        {
          "output_type": "stream",
          "name": "stdout",
          "text": [
            "[CV]  dropout_rate=0.1, learning_rate=0.001, score=-18855.252, total=   9.6s\n",
            "[CV] dropout_rate=0.1, learning_rate=0.001 ...........................\n"
          ]
        },
        {
          "output_type": "stream",
          "name": "stderr",
          "text": [
            "[Parallel(n_jobs=1)]: Done   8 out of   8 | elapsed:  1.4min remaining:    0.0s\n"
          ]
        },
        {
          "output_type": "stream",
          "name": "stdout",
          "text": [
            "[CV]  dropout_rate=0.1, learning_rate=0.001, score=-17352.438, total=   9.7s\n",
            "[CV] dropout_rate=0.2, learning_rate=0.1 .............................\n"
          ]
        },
        {
          "output_type": "stream",
          "name": "stderr",
          "text": [
            "[Parallel(n_jobs=1)]: Done   9 out of   9 | elapsed:  1.5min remaining:    0.0s\n"
          ]
        },
        {
          "output_type": "stream",
          "name": "stdout",
          "text": [
            "[CV]  dropout_rate=0.2, learning_rate=0.1, score=-17761.500, total=  10.9s\n",
            "[CV] dropout_rate=0.2, learning_rate=0.1 .............................\n",
            "[CV]  dropout_rate=0.2, learning_rate=0.1, score=-18855.252, total=   9.5s\n",
            "[CV] dropout_rate=0.2, learning_rate=0.1 .............................\n",
            "[CV]  dropout_rate=0.2, learning_rate=0.1, score=-17352.438, total=   9.6s\n",
            "[CV] dropout_rate=0.2, learning_rate=0.01 ............................\n",
            "[CV]  dropout_rate=0.2, learning_rate=0.01, score=-17761.498, total=  10.0s\n",
            "[CV] dropout_rate=0.2, learning_rate=0.01 ............................\n",
            "[CV]  dropout_rate=0.2, learning_rate=0.01, score=-18855.252, total=   9.7s\n",
            "[CV] dropout_rate=0.2, learning_rate=0.01 ............................\n",
            "[CV]  dropout_rate=0.2, learning_rate=0.01, score=-17352.438, total=  10.9s\n",
            "[CV] dropout_rate=0.2, learning_rate=0.001 ...........................\n",
            "[CV]  dropout_rate=0.2, learning_rate=0.001, score=-17761.498, total=   9.6s\n",
            "[CV] dropout_rate=0.2, learning_rate=0.001 ...........................\n",
            "[CV]  dropout_rate=0.2, learning_rate=0.001, score=-18855.252, total=  10.9s\n",
            "[CV] dropout_rate=0.2, learning_rate=0.001 ...........................\n",
            "[CV]  dropout_rate=0.2, learning_rate=0.001, score=-17352.438, total=   9.6s\n",
            "[CV] dropout_rate=0.5, learning_rate=0.1 .............................\n",
            "[CV]  dropout_rate=0.5, learning_rate=0.1, score=-17761.498, total=   9.5s\n",
            "[CV] dropout_rate=0.5, learning_rate=0.1 .............................\n",
            "[CV]  dropout_rate=0.5, learning_rate=0.1, score=-18855.252, total=   9.5s\n",
            "[CV] dropout_rate=0.5, learning_rate=0.1 .............................\n",
            "[CV]  dropout_rate=0.5, learning_rate=0.1, score=-17352.438, total=  10.9s\n",
            "[CV] dropout_rate=0.5, learning_rate=0.01 ............................\n",
            "[CV]  dropout_rate=0.5, learning_rate=0.01, score=-17761.498, total=  10.9s\n",
            "[CV] dropout_rate=0.5, learning_rate=0.01 ............................\n",
            "[CV]  dropout_rate=0.5, learning_rate=0.01, score=-18855.252, total=  11.2s\n",
            "[CV] dropout_rate=0.5, learning_rate=0.01 ............................\n",
            "[CV]  dropout_rate=0.5, learning_rate=0.01, score=-17352.438, total=  10.9s\n",
            "[CV] dropout_rate=0.5, learning_rate=0.001 ...........................\n",
            "[CV]  dropout_rate=0.5, learning_rate=0.001, score=-17761.498, total=   9.5s\n",
            "[CV] dropout_rate=0.5, learning_rate=0.001 ...........................\n",
            "[CV]  dropout_rate=0.5, learning_rate=0.001, score=-18855.252, total=  10.9s\n",
            "[CV] dropout_rate=0.5, learning_rate=0.001 ...........................\n",
            "[CV]  dropout_rate=0.5, learning_rate=0.001, score=-17352.438, total=   9.4s\n"
          ]
        },
        {
          "output_type": "stream",
          "name": "stderr",
          "text": [
            "[Parallel(n_jobs=1)]: Done  27 out of  27 | elapsed:  4.6min finished\n"
          ]
        },
        {
          "output_type": "execute_result",
          "data": {
            "text/plain": [
              "GridSearchCV(cv=KFold(n_splits=3, random_state=None, shuffle=False),\n",
              "             error_score=nan,\n",
              "             estimator=<keras.wrappers.scikit_learn.KerasRegressor object at 0x7f350f7549d0>,\n",
              "             iid='deprecated', n_jobs=None,\n",
              "             param_grid={'dropout_rate': [0.1, 0.2, 0.5],\n",
              "                         'learning_rate': [0.1, 0.01, 0.001]},\n",
              "             pre_dispatch='2*n_jobs', refit=True, return_train_score=False,\n",
              "             scoring=None, verbose=10)"
            ]
          },
          "metadata": {},
          "execution_count": 19
        }
      ]
    },
    {
      "cell_type": "code",
      "metadata": {
        "colab": {
          "base_uri": "https://localhost:8080/"
        },
        "id": "e2fe3576",
        "outputId": "03fdc9e2-3db4-4645-fafb-6fffd48b31df"
      },
      "source": [
        "print('Best: {} with: {}'.format(grid.best_score_ , grid.best_params_))\n",
        "\n",
        "means = grid.cv_results_['mean_test_score']\n",
        "std = grid.cv_results_['std_test_score']\n",
        "params = grid.cv_results_['params']\n",
        "\n",
        "for mean,stdev,param in zip(means,std,params):\n",
        "       print('{} {} with : {}'.format(mean,stdev,param))\n",
        "   "
      ],
      "id": "e2fe3576",
      "execution_count": 20,
      "outputs": [
        {
          "output_type": "stream",
          "name": "stdout",
          "text": [
            "Best: -17989.729166666668 with: {'dropout_rate': 0.1, 'learning_rate': 0.01}\n",
            "-17990.229166666668 633.8899566230544 with : {'dropout_rate': 0.1, 'learning_rate': 0.1}\n",
            "-17989.729166666668 634.3920465881051 with : {'dropout_rate': 0.1, 'learning_rate': 0.01}\n",
            "-17989.729166666668 634.3920465881051 with : {'dropout_rate': 0.1, 'learning_rate': 0.001}\n",
            "-17989.729817708332 634.3918123676842 with : {'dropout_rate': 0.2, 'learning_rate': 0.1}\n",
            "-17989.729166666668 634.3920465881051 with : {'dropout_rate': 0.2, 'learning_rate': 0.01}\n",
            "-17989.729166666668 634.3920465881051 with : {'dropout_rate': 0.2, 'learning_rate': 0.001}\n",
            "-17989.729166666668 634.3920465881051 with : {'dropout_rate': 0.5, 'learning_rate': 0.1}\n",
            "-17989.729166666668 634.3920465881051 with : {'dropout_rate': 0.5, 'learning_rate': 0.01}\n",
            "-17989.729166666668 634.3920465881051 with : {'dropout_rate': 0.5, 'learning_rate': 0.001}\n"
          ]
        }
      ]
    },
    {
      "cell_type": "markdown",
      "metadata": {
        "id": "df51349f"
      },
      "source": [
        "##### Tuning for Activation Function and kernel initializer"
      ],
      "id": "df51349f"
    },
    {
      "cell_type": "code",
      "metadata": {
        "colab": {
          "base_uri": "https://localhost:8080/"
        },
        "id": "667094f9",
        "outputId": "df95b84c-8b37-40c7-a520-a23fdfc09a8e"
      },
      "source": [
        "from keras.layers import Dropout\n",
        "\n",
        "def create_model(activation_function,init):\n",
        "    model = Sequential()\n",
        "    model.add(Dense(8,input_dim = 10,kernel_initializer = init, activation = activation_function))\n",
        "    model.add(Dropout(0.1))\n",
        "    model.add(Dense(5,kernel_initializer = init, activation = activation_function))\n",
        "    model.add(Dropout(0.1))\n",
        "    model.add(Dense(1,kernel_initializer = 'uniform', activation = 'sigmoid'))\n",
        "    \n",
        "    adam = Adam(lr = 0.001)\n",
        "    model.compile(loss = 'mean_squared_error', optimizer = 'adam', metrics = ['accuracy'])\n",
        "    return model\n",
        "\n",
        "model = KerasRegressor(build_fn = create_model,batch_size = 80, epochs = 70, verbose = 0)\n",
        "\n",
        "activation_function = ['relu','maxout','elu','tanh','sigmoid']\n",
        "init = ['uniform','normal','zero']\n",
        "\n",
        "param_grid = dict(activation_function = activation_function, init = init)\n",
        "\n",
        "grid = GridSearchCV(estimator = model, param_grid = param_grid, cv = KFold(n_splits = 3), verbose = 10)\n",
        "grid.fit(x_std,y)"
      ],
      "id": "667094f9",
      "execution_count": 21,
      "outputs": [
        {
          "output_type": "stream",
          "name": "stdout",
          "text": [
            "Fitting 3 folds for each of 15 candidates, totalling 45 fits\n",
            "[CV] activation_function=relu, init=uniform ..........................\n"
          ]
        },
        {
          "output_type": "stream",
          "name": "stderr",
          "text": [
            "[Parallel(n_jobs=1)]: Using backend SequentialBackend with 1 concurrent workers.\n",
            "/usr/local/lib/python3.7/dist-packages/keras/optimizer_v2/optimizer_v2.py:356: UserWarning: The `lr` argument is deprecated, use `learning_rate` instead.\n",
            "  \"The `lr` argument is deprecated, use `learning_rate` instead.\")\n"
          ]
        },
        {
          "output_type": "stream",
          "name": "stdout",
          "text": [
            "[CV]  activation_function=relu, init=uniform, score=-17761.504, total=  10.9s\n",
            "[CV] activation_function=relu, init=uniform ..........................\n"
          ]
        },
        {
          "output_type": "stream",
          "name": "stderr",
          "text": [
            "[Parallel(n_jobs=1)]: Done   1 out of   1 | elapsed:   10.9s remaining:    0.0s\n"
          ]
        },
        {
          "output_type": "stream",
          "name": "stdout",
          "text": [
            "[CV]  activation_function=relu, init=uniform, score=-18855.252, total=  10.9s\n",
            "[CV] activation_function=relu, init=uniform ..........................\n"
          ]
        },
        {
          "output_type": "stream",
          "name": "stderr",
          "text": [
            "[Parallel(n_jobs=1)]: Done   2 out of   2 | elapsed:   21.8s remaining:    0.0s\n"
          ]
        },
        {
          "output_type": "stream",
          "name": "stdout",
          "text": [
            "[CV]  activation_function=relu, init=uniform, score=-17352.438, total=  10.9s\n",
            "[CV] activation_function=relu, init=normal ...........................\n"
          ]
        },
        {
          "output_type": "stream",
          "name": "stderr",
          "text": [
            "[Parallel(n_jobs=1)]: Done   3 out of   3 | elapsed:   32.7s remaining:    0.0s\n"
          ]
        },
        {
          "output_type": "stream",
          "name": "stdout",
          "text": [
            "[CV]  activation_function=relu, init=normal, score=-17761.498, total=   9.9s\n",
            "[CV] activation_function=relu, init=normal ...........................\n"
          ]
        },
        {
          "output_type": "stream",
          "name": "stderr",
          "text": [
            "[Parallel(n_jobs=1)]: Done   4 out of   4 | elapsed:   42.6s remaining:    0.0s\n"
          ]
        },
        {
          "output_type": "stream",
          "name": "stdout",
          "text": [
            "[CV]  activation_function=relu, init=normal, score=-18855.252, total=  11.2s\n",
            "[CV] activation_function=relu, init=normal ...........................\n"
          ]
        },
        {
          "output_type": "stream",
          "name": "stderr",
          "text": [
            "[Parallel(n_jobs=1)]: Done   5 out of   5 | elapsed:   53.8s remaining:    0.0s\n"
          ]
        },
        {
          "output_type": "stream",
          "name": "stdout",
          "text": [
            "[CV]  activation_function=relu, init=normal, score=-17352.438, total=  10.9s\n",
            "[CV] activation_function=relu, init=zero .............................\n"
          ]
        },
        {
          "output_type": "stream",
          "name": "stderr",
          "text": [
            "[Parallel(n_jobs=1)]: Done   6 out of   6 | elapsed:  1.1min remaining:    0.0s\n"
          ]
        },
        {
          "output_type": "stream",
          "name": "stdout",
          "text": [
            "[CV]  activation_function=relu, init=zero, score=-17763.020, total=  10.9s\n",
            "[CV] activation_function=relu, init=zero .............................\n"
          ]
        },
        {
          "output_type": "stream",
          "name": "stderr",
          "text": [
            "[Parallel(n_jobs=1)]: Done   7 out of   7 | elapsed:  1.3min remaining:    0.0s\n"
          ]
        },
        {
          "output_type": "stream",
          "name": "stdout",
          "text": [
            "[CV]  activation_function=relu, init=zero, score=-18856.822, total=   9.4s\n",
            "[CV] activation_function=relu, init=zero .............................\n"
          ]
        },
        {
          "output_type": "stream",
          "name": "stderr",
          "text": [
            "[Parallel(n_jobs=1)]: Done   8 out of   8 | elapsed:  1.4min remaining:    0.0s\n"
          ]
        },
        {
          "output_type": "stream",
          "name": "stdout",
          "text": [
            "[CV]  activation_function=relu, init=zero, score=-17353.938, total=  11.0s\n",
            "[CV] activation_function=maxout, init=uniform ........................\n",
            "[CV]  activation_function=maxout, init=uniform, score=nan, total=   0.0s\n",
            "[CV] activation_function=maxout, init=uniform ........................\n",
            "[CV]  activation_function=maxout, init=uniform, score=nan, total=   0.0s\n",
            "[CV] activation_function=maxout, init=uniform ........................\n",
            "[CV]  activation_function=maxout, init=uniform, score=nan, total=   0.0s\n",
            "[CV] activation_function=maxout, init=normal .........................\n",
            "[CV]  activation_function=maxout, init=normal, score=nan, total=   0.0s\n",
            "[CV] activation_function=maxout, init=normal .........................\n",
            "[CV]  activation_function=maxout, init=normal, score=nan, total=   0.0s\n",
            "[CV] activation_function=maxout, init=normal .........................\n",
            "[CV]  activation_function=maxout, init=normal, score=nan, total=   0.0s\n",
            "[CV] activation_function=maxout, init=zero ...........................\n",
            "[CV] . activation_function=maxout, init=zero, score=nan, total=   0.0s\n",
            "[CV] activation_function=maxout, init=zero ...........................\n",
            "[CV] . activation_function=maxout, init=zero, score=nan, total=   0.0s\n",
            "[CV] activation_function=maxout, init=zero ...........................\n",
            "[CV] . activation_function=maxout, init=zero, score=nan, total=   0.0s\n",
            "[CV] activation_function=elu, init=uniform ...........................\n"
          ]
        },
        {
          "output_type": "stream",
          "name": "stderr",
          "text": [
            "[Parallel(n_jobs=1)]: Done   9 out of   9 | elapsed:  1.6min remaining:    0.0s\n",
            "/usr/local/lib/python3.7/dist-packages/sklearn/model_selection/_validation.py:536: FitFailedWarning: Estimator fit failed. The score on this train-test partition for these parameters will be set to nan. Details: \n",
            "ValueError: Unknown activation function: maxout. Please ensure this object is passed to the `custom_objects` argument. See https://www.tensorflow.org/guide/keras/save_and_serialize#registering_the_custom_object for details.\n",
            "\n",
            "  FitFailedWarning)\n"
          ]
        },
        {
          "output_type": "stream",
          "name": "stdout",
          "text": [
            "[CV]  activation_function=elu, init=uniform, score=-17761.498, total=   9.5s\n",
            "[CV] activation_function=elu, init=uniform ...........................\n",
            "[CV]  activation_function=elu, init=uniform, score=-18855.252, total=  10.9s\n",
            "[CV] activation_function=elu, init=uniform ...........................\n",
            "[CV]  activation_function=elu, init=uniform, score=-17352.438, total=   9.6s\n",
            "[CV] activation_function=elu, init=normal ............................\n",
            "[CV]  activation_function=elu, init=normal, score=-17761.498, total=   9.5s\n",
            "[CV] activation_function=elu, init=normal ............................\n",
            "[CV]  activation_function=elu, init=normal, score=-18855.252, total=  10.9s\n",
            "[CV] activation_function=elu, init=normal ............................\n",
            "[CV]  activation_function=elu, init=normal, score=-17352.438, total=   9.9s\n",
            "[CV] activation_function=elu, init=zero ..............................\n",
            "[CV]  activation_function=elu, init=zero, score=-17761.498, total=   9.7s\n",
            "[CV] activation_function=elu, init=zero ..............................\n",
            "[CV]  activation_function=elu, init=zero, score=-18855.252, total=  10.9s\n",
            "[CV] activation_function=elu, init=zero ..............................\n",
            "[CV]  activation_function=elu, init=zero, score=-17352.443, total=   9.6s\n",
            "[CV] activation_function=tanh, init=uniform ..........................\n",
            "[CV]  activation_function=tanh, init=uniform, score=-17761.506, total=   9.6s\n",
            "[CV] activation_function=tanh, init=uniform ..........................\n",
            "[CV]  activation_function=tanh, init=uniform, score=-18855.262, total=  10.9s\n",
            "[CV] activation_function=tanh, init=uniform ..........................\n",
            "[CV]  activation_function=tanh, init=uniform, score=-17352.449, total=   9.6s\n",
            "[CV] activation_function=tanh, init=normal ...........................\n",
            "[CV]  activation_function=tanh, init=normal, score=-17761.506, total=  10.9s\n",
            "[CV] activation_function=tanh, init=normal ...........................\n",
            "[CV]  activation_function=tanh, init=normal, score=-18855.262, total=  10.9s\n",
            "[CV] activation_function=tanh, init=normal ...........................\n",
            "[CV]  activation_function=tanh, init=normal, score=-17352.449, total=   9.5s\n",
            "[CV] activation_function=tanh, init=zero .............................\n",
            "[CV]  activation_function=tanh, init=zero, score=-17761.506, total=   9.8s\n",
            "[CV] activation_function=tanh, init=zero .............................\n",
            "[CV]  activation_function=tanh, init=zero, score=-18855.262, total=  10.9s\n",
            "[CV] activation_function=tanh, init=zero .............................\n",
            "[CV]  activation_function=tanh, init=zero, score=-17352.447, total=   9.6s\n",
            "[CV] activation_function=sigmoid, init=uniform .......................\n",
            "[CV]  activation_function=sigmoid, init=uniform, score=-17761.518, total=  10.9s\n",
            "[CV] activation_function=sigmoid, init=uniform .......................\n",
            "[CV]  activation_function=sigmoid, init=uniform, score=-18855.271, total=  10.9s\n",
            "[CV] activation_function=sigmoid, init=uniform .......................\n",
            "[CV]  activation_function=sigmoid, init=uniform, score=-17352.459, total=   9.4s\n",
            "[CV] activation_function=sigmoid, init=normal ........................\n",
            "[CV]  activation_function=sigmoid, init=normal, score=-17761.518, total=   9.6s\n",
            "[CV] activation_function=sigmoid, init=normal ........................\n",
            "[CV]  activation_function=sigmoid, init=normal, score=-18855.271, total=   9.4s\n",
            "[CV] activation_function=sigmoid, init=normal ........................\n",
            "[CV]  activation_function=sigmoid, init=normal, score=-17352.459, total=   9.5s\n",
            "[CV] activation_function=sigmoid, init=zero ..........................\n",
            "[CV]  activation_function=sigmoid, init=zero, score=-17761.518, total=  10.9s\n",
            "[CV] activation_function=sigmoid, init=zero ..........................\n",
            "[CV]  activation_function=sigmoid, init=zero, score=-18855.271, total=  10.9s\n",
            "[CV] activation_function=sigmoid, init=zero ..........................\n",
            "[CV]  activation_function=sigmoid, init=zero, score=-17352.459, total=   9.9s\n"
          ]
        },
        {
          "output_type": "stream",
          "name": "stderr",
          "text": [
            "[Parallel(n_jobs=1)]: Done  45 out of  45 | elapsed:  6.2min finished\n"
          ]
        },
        {
          "output_type": "execute_result",
          "data": {
            "text/plain": [
              "GridSearchCV(cv=KFold(n_splits=3, random_state=None, shuffle=False),\n",
              "             error_score=nan,\n",
              "             estimator=<keras.wrappers.scikit_learn.KerasRegressor object at 0x7f350f43f850>,\n",
              "             iid='deprecated', n_jobs=None,\n",
              "             param_grid={'activation_function': ['relu', 'maxout', 'elu',\n",
              "                                                 'tanh', 'sigmoid'],\n",
              "                         'init': ['uniform', 'normal', 'zero']},\n",
              "             pre_dispatch='2*n_jobs', refit=True, return_train_score=False,\n",
              "             scoring=None, verbose=10)"
            ]
          },
          "metadata": {},
          "execution_count": 21
        }
      ]
    },
    {
      "cell_type": "code",
      "metadata": {
        "scrolled": true,
        "id": "691ae2e0",
        "outputId": "314f8b26-4336-44f8-f778-bf7490ab46c0"
      },
      "source": [
        "print('Best: {} with: {}'.format(grid.best_score_ , grid.best_params_))\n",
        "\n",
        "means = grid.cv_results_['mean_test_score']\n",
        "std = grid.cv_results_['std_test_score']\n",
        "params = grid.cv_results_['params']\n",
        "\n",
        "for mean,stdev,param in zip(means,std,params):\n",
        "       print('{} {} with : {}'.format(mean,stdev,param))\n",
        "   "
      ],
      "id": "691ae2e0",
      "execution_count": null,
      "outputs": [
        {
          "name": "stdout",
          "output_type": "stream",
          "text": [
            "Best: -17989.729166666668 with: {'activation_function': 'relu', 'init': 'normal'}\n",
            "-17989.729817708332 634.3918123676842 with : {'activation_function': 'relu', 'init': 'uniform'}\n",
            "-17989.729166666668 634.3920465881051 with : {'activation_function': 'relu', 'init': 'normal'}\n",
            "-17991.259765625 634.421446741094 with : {'activation_function': 'relu', 'init': 'zero'}\n",
            "nan nan with : {'activation_function': 'maxout', 'init': 'uniform'}\n",
            "nan nan with : {'activation_function': 'maxout', 'init': 'normal'}\n",
            "nan nan with : {'activation_function': 'maxout', 'init': 'zero'}\n",
            "-17989.729166666668 634.3920465881051 with : {'activation_function': 'elu', 'init': 'uniform'}\n",
            "-17989.729166666668 634.3920465881051 with : {'activation_function': 'elu', 'init': 'normal'}\n",
            "-17989.73046875 634.3911583497184 with : {'activation_function': 'elu', 'init': 'zero'}\n",
            "-17989.739583333332 634.3925150326963 with : {'activation_function': 'tanh', 'init': 'uniform'}\n",
            "-17989.739583333332 634.3925150326963 with : {'activation_function': 'tanh', 'init': 'normal'}\n",
            "-17989.738932291668 634.3931690485955 with : {'activation_function': 'tanh', 'init': 'zero'}\n",
            "-17989.748046875 634.3922808097758 with : {'activation_function': 'sigmoid', 'init': 'uniform'}\n",
            "-17989.748046875 634.3922808097758 with : {'activation_function': 'sigmoid', 'init': 'normal'}\n",
            "-17989.748046875 634.3922808097758 with : {'activation_function': 'sigmoid', 'init': 'zero'}\n"
          ]
        }
      ]
    },
    {
      "cell_type": "markdown",
      "metadata": {
        "id": "020b6428"
      },
      "source": [
        "##### checking number of neurons"
      ],
      "id": "020b6428"
    },
    {
      "cell_type": "code",
      "metadata": {
        "id": "3a9ae1c4",
        "outputId": "2ea5123a-3806-4285-9f48-343cceafc042"
      },
      "source": [
        "def create_model(neuron1,neuron2):\n",
        "    model = Sequential()\n",
        "    model.add(Dense(8,input_dim = 10,kernel_initializer = 'normal', activation = 'relu'))\n",
        "    model.add(Dropout(0.1))\n",
        "    model.add(Dense(5,kernel_initializer = 'normal', activation = 'relu'))\n",
        "    model.add(Dropout(0.1))\n",
        "    model.add(Dense(1,kernel_initializer = 'normal', activation = 'relu'))\n",
        "    \n",
        "    adam = Adam(lr = 0.001)\n",
        "    model.compile(loss = 'mean_squared_error', optimizer = 'adam', metrics = ['accuracy'])\n",
        "    return model\n",
        "\n",
        "model = KerasRegressor(build_fn = create_model,batch_size = 80, epochs = 70, verbose = 0)\n",
        "\n",
        "neuron1 = [5,8,10]\n",
        "neuron2 = [2,3,5]\n",
        "\n",
        "param_grid = dict(neuron1 = neuron1, neuron2 = neuron2)\n",
        "\n",
        "grid = GridSearchCV(estimator = model, param_grid = param_grid, cv = KFold(), verbose = 10)\n",
        "grid.fit(x_std,y)"
      ],
      "id": "3a9ae1c4",
      "execution_count": null,
      "outputs": [
        {
          "name": "stdout",
          "output_type": "stream",
          "text": [
            "Fitting 5 folds for each of 9 candidates, totalling 45 fits\n",
            "[CV 1/5; 1/9] START neuron1=5, neuron2=2........................................\n",
            "[CV 1/5; 1/9] END ......................neuron1=5, neuron2=2; total time=  15.2s\n",
            "[CV 2/5; 1/9] START neuron1=5, neuron2=2........................................\n",
            "[CV 2/5; 1/9] END ......................neuron1=5, neuron2=2; total time=  16.7s\n",
            "[CV 3/5; 1/9] START neuron1=5, neuron2=2........................................\n",
            "[CV 3/5; 1/9] END ......................neuron1=5, neuron2=2; total time=  16.8s\n",
            "[CV 4/5; 1/9] START neuron1=5, neuron2=2........................................\n",
            "[CV 4/5; 1/9] END ......................neuron1=5, neuron2=2; total time=  24.5s\n",
            "[CV 5/5; 1/9] START neuron1=5, neuron2=2........................................\n",
            "[CV 5/5; 1/9] END ......................neuron1=5, neuron2=2; total time=  15.3s\n",
            "[CV 1/5; 2/9] START neuron1=5, neuron2=3........................................\n",
            "[CV 1/5; 2/9] END ......................neuron1=5, neuron2=3; total time=  18.3s\n",
            "[CV 2/5; 2/9] START neuron1=5, neuron2=3........................................\n",
            "[CV 2/5; 2/9] END ......................neuron1=5, neuron2=3; total time=  15.2s\n",
            "[CV 3/5; 2/9] START neuron1=5, neuron2=3........................................\n",
            "[CV 3/5; 2/9] END ......................neuron1=5, neuron2=3; total time=  15.7s\n",
            "[CV 4/5; 2/9] START neuron1=5, neuron2=3........................................\n",
            "[CV 4/5; 2/9] END ......................neuron1=5, neuron2=3; total time=  16.2s\n",
            "[CV 5/5; 2/9] START neuron1=5, neuron2=3........................................\n",
            "[CV 5/5; 2/9] END ......................neuron1=5, neuron2=3; total time=  16.3s\n",
            "[CV 1/5; 3/9] START neuron1=5, neuron2=5........................................\n",
            "[CV 1/5; 3/9] END ......................neuron1=5, neuron2=5; total time=  15.7s\n",
            "[CV 2/5; 3/9] START neuron1=5, neuron2=5........................................\n",
            "[CV 2/5; 3/9] END ......................neuron1=5, neuron2=5; total time=  14.4s\n",
            "[CV 3/5; 3/9] START neuron1=5, neuron2=5........................................\n",
            "[CV 3/5; 3/9] END ......................neuron1=5, neuron2=5; total time=  16.4s\n",
            "[CV 4/5; 3/9] START neuron1=5, neuron2=5........................................\n",
            "[CV 4/5; 3/9] END ......................neuron1=5, neuron2=5; total time=  15.0s\n",
            "[CV 5/5; 3/9] START neuron1=5, neuron2=5........................................\n",
            "[CV 5/5; 3/9] END ......................neuron1=5, neuron2=5; total time=  14.8s\n",
            "[CV 1/5; 4/9] START neuron1=8, neuron2=2........................................\n",
            "[CV 1/5; 4/9] END ......................neuron1=8, neuron2=2; total time=  14.4s\n",
            "[CV 2/5; 4/9] START neuron1=8, neuron2=2........................................\n",
            "[CV 2/5; 4/9] END ......................neuron1=8, neuron2=2; total time=  15.2s\n",
            "[CV 3/5; 4/9] START neuron1=8, neuron2=2........................................\n",
            "[CV 3/5; 4/9] END ......................neuron1=8, neuron2=2; total time=  14.4s\n",
            "[CV 4/5; 4/9] START neuron1=8, neuron2=2........................................\n",
            "[CV 4/5; 4/9] END ......................neuron1=8, neuron2=2; total time=  14.6s\n",
            "[CV 5/5; 4/9] START neuron1=8, neuron2=2........................................\n",
            "[CV 5/5; 4/9] END ......................neuron1=8, neuron2=2; total time=  21.9s\n",
            "[CV 1/5; 5/9] START neuron1=8, neuron2=3........................................\n",
            "[CV 1/5; 5/9] END ......................neuron1=8, neuron2=3; total time=  15.4s\n",
            "[CV 2/5; 5/9] START neuron1=8, neuron2=3........................................\n",
            "[CV 2/5; 5/9] END ......................neuron1=8, neuron2=3; total time=  18.3s\n",
            "[CV 3/5; 5/9] START neuron1=8, neuron2=3........................................\n",
            "[CV 3/5; 5/9] END ......................neuron1=8, neuron2=3; total time=  20.6s\n",
            "[CV 4/5; 5/9] START neuron1=8, neuron2=3........................................\n",
            "[CV 4/5; 5/9] END ......................neuron1=8, neuron2=3; total time=  17.6s\n",
            "[CV 5/5; 5/9] START neuron1=8, neuron2=3........................................\n",
            "[CV 5/5; 5/9] END ......................neuron1=8, neuron2=3; total time=  33.1s\n",
            "[CV 1/5; 6/9] START neuron1=8, neuron2=5........................................\n",
            "[CV 1/5; 6/9] END ......................neuron1=8, neuron2=5; total time=  17.1s\n",
            "[CV 2/5; 6/9] START neuron1=8, neuron2=5........................................\n",
            "[CV 2/5; 6/9] END ......................neuron1=8, neuron2=5; total time=  18.2s\n",
            "[CV 3/5; 6/9] START neuron1=8, neuron2=5........................................\n",
            "[CV 3/5; 6/9] END ......................neuron1=8, neuron2=5; total time=  16.7s\n",
            "[CV 4/5; 6/9] START neuron1=8, neuron2=5........................................\n",
            "[CV 4/5; 6/9] END ......................neuron1=8, neuron2=5; total time=  17.4s\n",
            "[CV 5/5; 6/9] START neuron1=8, neuron2=5........................................\n",
            "[CV 5/5; 6/9] END ......................neuron1=8, neuron2=5; total time=  18.2s\n",
            "[CV 1/5; 7/9] START neuron1=10, neuron2=2.......................................\n",
            "[CV 1/5; 7/9] END .....................neuron1=10, neuron2=2; total time=  19.6s\n",
            "[CV 2/5; 7/9] START neuron1=10, neuron2=2.......................................\n",
            "[CV 2/5; 7/9] END .....................neuron1=10, neuron2=2; total time=  18.9s\n",
            "[CV 3/5; 7/9] START neuron1=10, neuron2=2.......................................\n",
            "[CV 3/5; 7/9] END .....................neuron1=10, neuron2=2; total time=  19.5s\n",
            "[CV 4/5; 7/9] START neuron1=10, neuron2=2.......................................\n",
            "[CV 4/5; 7/9] END .....................neuron1=10, neuron2=2; total time=  28.7s\n",
            "[CV 5/5; 7/9] START neuron1=10, neuron2=2.......................................\n",
            "[CV 5/5; 7/9] END .....................neuron1=10, neuron2=2; total time=  20.5s\n",
            "[CV 1/5; 8/9] START neuron1=10, neuron2=3.......................................\n",
            "[CV 1/5; 8/9] END .....................neuron1=10, neuron2=3; total time=  21.5s\n",
            "[CV 2/5; 8/9] START neuron1=10, neuron2=3.......................................\n",
            "[CV 2/5; 8/9] END .....................neuron1=10, neuron2=3; total time=  17.8s\n",
            "[CV 3/5; 8/9] START neuron1=10, neuron2=3.......................................\n",
            "[CV 3/5; 8/9] END .....................neuron1=10, neuron2=3; total time=  17.3s\n",
            "[CV 4/5; 8/9] START neuron1=10, neuron2=3.......................................\n",
            "[CV 4/5; 8/9] END .....................neuron1=10, neuron2=3; total time=  16.8s\n",
            "[CV 5/5; 8/9] START neuron1=10, neuron2=3.......................................\n",
            "[CV 5/5; 8/9] END .....................neuron1=10, neuron2=3; total time=  15.5s\n",
            "[CV 1/5; 9/9] START neuron1=10, neuron2=5.......................................\n",
            "[CV 1/5; 9/9] END .....................neuron1=10, neuron2=5; total time=  18.1s\n",
            "[CV 2/5; 9/9] START neuron1=10, neuron2=5.......................................\n",
            "[CV 2/5; 9/9] END .....................neuron1=10, neuron2=5; total time=  18.2s\n",
            "[CV 3/5; 9/9] START neuron1=10, neuron2=5.......................................\n",
            "[CV 3/5; 9/9] END .....................neuron1=10, neuron2=5; total time=54.0min\n",
            "[CV 4/5; 9/9] START neuron1=10, neuron2=5.......................................\n",
            "[CV 4/5; 9/9] END .....................neuron1=10, neuron2=5; total time=  19.2s\n",
            "[CV 5/5; 9/9] START neuron1=10, neuron2=5.......................................\n",
            "[CV 5/5; 9/9] END .....................neuron1=10, neuron2=5; total time=  16.0s\n"
          ]
        },
        {
          "data": {
            "text/plain": [
              "GridSearchCV(cv=KFold(n_splits=5, random_state=None, shuffle=False),\n",
              "             estimator=<keras.wrappers.scikit_learn.KerasRegressor object at 0x0000025B517CE6A0>,\n",
              "             param_grid={'neuron1': [5, 8, 10], 'neuron2': [2, 3, 5]},\n",
              "             verbose=10)"
            ]
          },
          "execution_count": 29,
          "metadata": {},
          "output_type": "execute_result"
        }
      ]
    },
    {
      "cell_type": "code",
      "metadata": {
        "colab": {
          "base_uri": "https://localhost:8080/"
        },
        "id": "040c82bd",
        "outputId": "fc5cc695-449f-48ef-fa93-c9b8d22aa124"
      },
      "source": [
        "print('Best: {} with: {}'.format(grid.best_score_ , grid.best_params_))\n",
        "\n",
        "means = grid.cv_results_['mean_test_score']\n",
        "std = grid.cv_results_['std_test_score']\n",
        "params = grid.cv_results_['params']\n",
        "\n",
        "for mean,stdev,param in zip(means,std,params):\n",
        "       print('{} {} with : {}'.format(mean,stdev,param))\n",
        "   "
      ],
      "id": "040c82bd",
      "execution_count": 22,
      "outputs": [
        {
          "output_type": "stream",
          "name": "stdout",
          "text": [
            "Best: -17989.729166666668 with: {'activation_function': 'relu', 'init': 'normal'}\n",
            "-17989.731119791668 634.3913439305916 with : {'activation_function': 'relu', 'init': 'uniform'}\n",
            "-17989.729166666668 634.3920465881051 with : {'activation_function': 'relu', 'init': 'normal'}\n",
            "-17991.259765625 634.421446741094 with : {'activation_function': 'relu', 'init': 'zero'}\n",
            "nan nan with : {'activation_function': 'maxout', 'init': 'uniform'}\n",
            "nan nan with : {'activation_function': 'maxout', 'init': 'normal'}\n",
            "nan nan with : {'activation_function': 'maxout', 'init': 'zero'}\n",
            "-17989.729166666668 634.3920465881051 with : {'activation_function': 'elu', 'init': 'uniform'}\n",
            "-17989.729166666668 634.3920465881051 with : {'activation_function': 'elu', 'init': 'normal'}\n",
            "-17989.731119791668 634.3900845389222 with : {'activation_function': 'elu', 'init': 'zero'}\n",
            "-17989.738932291668 634.3916267936291 with : {'activation_function': 'tanh', 'init': 'uniform'}\n",
            "-17989.738932291668 634.3916267936291 with : {'activation_function': 'tanh', 'init': 'normal'}\n",
            "-17989.73828125 634.3922808097758 with : {'activation_function': 'tanh', 'init': 'zero'}\n",
            "-17989.749348958332 634.3913925710489 with : {'activation_function': 'sigmoid', 'init': 'uniform'}\n",
            "-17989.749348958332 634.3913925710489 with : {'activation_function': 'sigmoid', 'init': 'normal'}\n",
            "-17989.749348958332 634.3913925710489 with : {'activation_function': 'sigmoid', 'init': 'zero'}\n"
          ]
        }
      ]
    },
    {
      "cell_type": "code",
      "metadata": {
        "id": "04a43c74"
      },
      "source": [
        "from sklearn.model_selection import train_test_split"
      ],
      "id": "04a43c74",
      "execution_count": 23,
      "outputs": []
    },
    {
      "cell_type": "code",
      "metadata": {
        "id": "795d7b2b"
      },
      "source": [
        "x_train,x_test,y_train,y_test = train_test_split(x,y,test_size = 0.2, random_state = 101)"
      ],
      "id": "795d7b2b",
      "execution_count": 24,
      "outputs": []
    },
    {
      "cell_type": "code",
      "metadata": {
        "id": "ce403857"
      },
      "source": [
        "std1 = StandardScaler()\n",
        "x_train_std = std1.fit_transform(x_train)\n",
        "x_test_std = std1.fit_transform(x_test)"
      ],
      "id": "ce403857",
      "execution_count": 25,
      "outputs": []
    },
    {
      "cell_type": "markdown",
      "metadata": {
        "id": "eac547e6"
      },
      "source": [
        "##### Building the final model with optimum values achieved by grid search cv"
      ],
      "id": "eac547e6"
    },
    {
      "cell_type": "code",
      "metadata": {
        "colab": {
          "base_uri": "https://localhost:8080/"
        },
        "id": "d01b631e",
        "outputId": "a36ca6d8-5307-4ab0-e6e5-1ffbcb7054bb"
      },
      "source": [
        "from tensorflow.keras.optimizers import Adam\n",
        "\n",
        "model = Sequential()\n",
        "model.add(Dense(5,input_dim = 10, kernel_initializer = 'uniform', activation = 'relu'))\n",
        "model.add(Dense(3,kernel_initializer = 'uniform', activation = 'relu'))\n",
        "model.add(Dense(1,kernel_initializer = 'uniform', activation = 'relu'))\n",
        "\n",
        "adam = Adam(lr = 0.001)    \n",
        "model.compile(optimizer='adam',loss='mse')\n",
        "model.fit(x_train_std,y_train, epochs = 70, batch_size = 80)\n"
      ],
      "id": "d01b631e",
      "execution_count": 26,
      "outputs": [
        {
          "output_type": "stream",
          "name": "stderr",
          "text": [
            "/usr/local/lib/python3.7/dist-packages/keras/optimizer_v2/optimizer_v2.py:356: UserWarning: The `lr` argument is deprecated, use `learning_rate` instead.\n",
            "  \"The `lr` argument is deprecated, use `learning_rate` instead.\")\n"
          ]
        },
        {
          "output_type": "stream",
          "name": "stdout",
          "text": [
            "Epoch 1/70\n",
            "151/151 [==============================] - 1s 1ms/step - loss: 18200.1758\n",
            "Epoch 2/70\n",
            "151/151 [==============================] - 0s 1ms/step - loss: 17881.9512\n",
            "Epoch 3/70\n",
            "151/151 [==============================] - 0s 1ms/step - loss: 16791.8379\n",
            "Epoch 4/70\n",
            "151/151 [==============================] - 0s 1ms/step - loss: 14717.6328\n",
            "Epoch 5/70\n",
            "151/151 [==============================] - 0s 1ms/step - loss: 12039.5830\n",
            "Epoch 6/70\n",
            "151/151 [==============================] - 0s 1ms/step - loss: 9399.9326\n",
            "Epoch 7/70\n",
            "151/151 [==============================] - 0s 1ms/step - loss: 7081.8022\n",
            "Epoch 8/70\n",
            "151/151 [==============================] - 0s 1ms/step - loss: 5067.8765\n",
            "Epoch 9/70\n",
            "151/151 [==============================] - 0s 1ms/step - loss: 3392.7983\n",
            "Epoch 10/70\n",
            "151/151 [==============================] - 0s 1ms/step - loss: 2159.0298\n",
            "Epoch 11/70\n",
            "151/151 [==============================] - 0s 1ms/step - loss: 1388.5795\n",
            "Epoch 12/70\n",
            "151/151 [==============================] - 0s 1ms/step - loss: 972.2635\n",
            "Epoch 13/70\n",
            "151/151 [==============================] - 0s 1ms/step - loss: 757.0621\n",
            "Epoch 14/70\n",
            "151/151 [==============================] - 0s 1ms/step - loss: 635.7107\n",
            "Epoch 15/70\n",
            "151/151 [==============================] - 0s 1ms/step - loss: 556.2378\n",
            "Epoch 16/70\n",
            "151/151 [==============================] - 0s 1ms/step - loss: 497.4915\n",
            "Epoch 17/70\n",
            "151/151 [==============================] - 0s 1ms/step - loss: 450.6738\n",
            "Epoch 18/70\n",
            "151/151 [==============================] - 0s 1ms/step - loss: 411.1373\n",
            "Epoch 19/70\n",
            "151/151 [==============================] - 0s 1ms/step - loss: 376.9779\n",
            "Epoch 20/70\n",
            "151/151 [==============================] - 0s 1ms/step - loss: 345.7433\n",
            "Epoch 21/70\n",
            "151/151 [==============================] - 0s 1ms/step - loss: 315.8980\n",
            "Epoch 22/70\n",
            "151/151 [==============================] - 0s 1ms/step - loss: 287.6583\n",
            "Epoch 23/70\n",
            "151/151 [==============================] - 0s 1ms/step - loss: 261.7244\n",
            "Epoch 24/70\n",
            "151/151 [==============================] - 0s 1ms/step - loss: 238.4390\n",
            "Epoch 25/70\n",
            "151/151 [==============================] - 0s 1ms/step - loss: 218.2910\n",
            "Epoch 26/70\n",
            "151/151 [==============================] - 0s 1ms/step - loss: 200.1907\n",
            "Epoch 27/70\n",
            "151/151 [==============================] - 0s 1ms/step - loss: 184.3825\n",
            "Epoch 28/70\n",
            "151/151 [==============================] - 0s 1ms/step - loss: 170.3821\n",
            "Epoch 29/70\n",
            "151/151 [==============================] - 0s 1ms/step - loss: 157.6815\n",
            "Epoch 30/70\n",
            "151/151 [==============================] - 0s 1ms/step - loss: 146.3133\n",
            "Epoch 31/70\n",
            "151/151 [==============================] - 0s 1ms/step - loss: 135.9868\n",
            "Epoch 32/70\n",
            "151/151 [==============================] - 0s 1ms/step - loss: 126.2977\n",
            "Epoch 33/70\n",
            "151/151 [==============================] - 0s 1ms/step - loss: 117.4291\n",
            "Epoch 34/70\n",
            "151/151 [==============================] - 0s 1ms/step - loss: 109.3917\n",
            "Epoch 35/70\n",
            "151/151 [==============================] - 0s 1ms/step - loss: 102.2744\n",
            "Epoch 36/70\n",
            "151/151 [==============================] - 0s 1ms/step - loss: 95.9014\n",
            "Epoch 37/70\n",
            "151/151 [==============================] - 0s 1ms/step - loss: 89.8521\n",
            "Epoch 38/70\n",
            "151/151 [==============================] - 0s 1ms/step - loss: 84.0354\n",
            "Epoch 39/70\n",
            "151/151 [==============================] - 0s 1ms/step - loss: 78.4467\n",
            "Epoch 40/70\n",
            "151/151 [==============================] - 0s 1ms/step - loss: 72.8481\n",
            "Epoch 41/70\n",
            "151/151 [==============================] - 0s 1ms/step - loss: 67.6239\n",
            "Epoch 42/70\n",
            "151/151 [==============================] - 0s 1ms/step - loss: 62.7641\n",
            "Epoch 43/70\n",
            "151/151 [==============================] - 0s 1ms/step - loss: 58.1395\n",
            "Epoch 44/70\n",
            "151/151 [==============================] - 0s 1ms/step - loss: 53.7819\n",
            "Epoch 45/70\n",
            "151/151 [==============================] - 0s 1ms/step - loss: 49.6121\n",
            "Epoch 46/70\n",
            "151/151 [==============================] - 0s 1ms/step - loss: 45.7341\n",
            "Epoch 47/70\n",
            "151/151 [==============================] - 0s 1ms/step - loss: 42.0605\n",
            "Epoch 48/70\n",
            "151/151 [==============================] - 0s 1ms/step - loss: 38.5556\n",
            "Epoch 49/70\n",
            "151/151 [==============================] - 0s 1ms/step - loss: 35.3210\n",
            "Epoch 50/70\n",
            "151/151 [==============================] - 0s 1ms/step - loss: 32.3645\n",
            "Epoch 51/70\n",
            "151/151 [==============================] - 0s 1ms/step - loss: 29.6576\n",
            "Epoch 52/70\n",
            "151/151 [==============================] - 0s 1ms/step - loss: 27.1548\n",
            "Epoch 53/70\n",
            "151/151 [==============================] - 0s 1ms/step - loss: 24.7861\n",
            "Epoch 54/70\n",
            "151/151 [==============================] - 0s 1ms/step - loss: 22.6918\n",
            "Epoch 55/70\n",
            "151/151 [==============================] - 0s 1ms/step - loss: 20.8002\n",
            "Epoch 56/70\n",
            "151/151 [==============================] - 0s 1ms/step - loss: 19.0143\n",
            "Epoch 57/70\n",
            "151/151 [==============================] - 0s 1ms/step - loss: 17.3536\n",
            "Epoch 58/70\n",
            "151/151 [==============================] - 0s 1ms/step - loss: 15.8844\n",
            "Epoch 59/70\n",
            "151/151 [==============================] - 0s 1ms/step - loss: 14.5540\n",
            "Epoch 60/70\n",
            "151/151 [==============================] - 0s 1ms/step - loss: 13.3194\n",
            "Epoch 61/70\n",
            "151/151 [==============================] - 0s 1ms/step - loss: 12.1744\n",
            "Epoch 62/70\n",
            "151/151 [==============================] - 0s 1ms/step - loss: 11.1272\n",
            "Epoch 63/70\n",
            "151/151 [==============================] - 0s 1ms/step - loss: 10.1434\n",
            "Epoch 64/70\n",
            "151/151 [==============================] - 0s 1ms/step - loss: 9.2126\n",
            "Epoch 65/70\n",
            "151/151 [==============================] - 0s 1ms/step - loss: 8.3737\n",
            "Epoch 66/70\n",
            "151/151 [==============================] - 0s 1ms/step - loss: 7.6809\n",
            "Epoch 67/70\n",
            "151/151 [==============================] - 0s 1ms/step - loss: 7.0719\n",
            "Epoch 68/70\n",
            "151/151 [==============================] - 0s 1ms/step - loss: 6.4829\n",
            "Epoch 69/70\n",
            "151/151 [==============================] - 0s 1ms/step - loss: 5.9682\n",
            "Epoch 70/70\n",
            "151/151 [==============================] - 0s 1ms/step - loss: 5.5228\n"
          ]
        },
        {
          "output_type": "execute_result",
          "data": {
            "text/plain": [
              "<keras.callbacks.History at 0x7f35072765d0>"
            ]
          },
          "metadata": {},
          "execution_count": 26
        }
      ]
    },
    {
      "cell_type": "code",
      "metadata": {
        "colab": {
          "base_uri": "https://localhost:8080/"
        },
        "id": "8c3909ea",
        "outputId": "aeb53eca-b0a6-4bda-9481-9000def257e4"
      },
      "source": [
        "score = model.evaluate(x_test_std,y_test)"
      ],
      "id": "8c3909ea",
      "execution_count": 27,
      "outputs": [
        {
          "output_type": "stream",
          "name": "stdout",
          "text": [
            "94/94 [==============================] - 0s 959us/step - loss: 5.8415\n"
          ]
        }
      ]
    },
    {
      "cell_type": "code",
      "metadata": {
        "id": "2cf6032a"
      },
      "source": [
        ""
      ],
      "id": "2cf6032a",
      "execution_count": null,
      "outputs": []
    }
  ]
}